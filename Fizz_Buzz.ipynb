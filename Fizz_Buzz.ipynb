{
 "cells": [
  {
   "cell_type": "code",
   "execution_count": 15,
   "id": "c1dddb27",
   "metadata": {},
   "outputs": [],
   "source": [
    "def Fizz_Buzz(inp):\n",
    "    if inp%3 == 0 and inp%5 ==0:\n",
    "        return \"Fizz_Buzz\"\n",
    "    if inp%3 == 0:\n",
    "        return \"Fizz\"\n",
    "    if inp%5 == 0:\n",
    "        return \"Buzz\"\n",
    "    return inp"
   ]
  }
 ],
 "metadata": {
  "kernelspec": {
   "display_name": "Python 3 (ipykernel)",
   "language": "python",
   "name": "python3"
  },
  "language_info": {
   "codemirror_mode": {
    "name": "ipython",
    "version": 3
   },
   "file_extension": ".py",
   "mimetype": "text/x-python",
   "name": "python",
   "nbconvert_exporter": "python",
   "pygments_lexer": "ipython3",
   "version": "3.9.7"
  }
 },
 "nbformat": 4,
 "nbformat_minor": 5
}
